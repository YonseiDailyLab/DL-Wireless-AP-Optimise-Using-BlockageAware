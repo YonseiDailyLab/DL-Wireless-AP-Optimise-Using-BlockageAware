{
 "cells": [
  {
   "cell_type": "code",
   "id": "initial_id",
   "metadata": {
    "collapsed": true,
    "ExecuteTime": {
     "end_time": "2024-10-14T12:07:42.604087Z",
     "start_time": "2024-10-14T12:07:42.601490Z"
    }
   },
   "source": [
    "import torch\n",
    "from utils.config import Hyperparameters as hparams\n"
   ],
   "outputs": [],
   "execution_count": 211
  },
  {
   "metadata": {
    "ExecuteTime": {
     "end_time": "2024-10-14T12:07:42.651514Z",
     "start_time": "2024-10-14T12:07:42.646912Z"
    }
   },
   "cell_type": "code",
   "source": [
    "x = torch.tensor([7, 8, 9])\n",
    "y = torch.tensor([1, 2, 3])\n",
    "z = torch.tensor([[9, 4, 2],[3, 0, 2],[4, 7, 5]])\n",
    "z.shape"
   ],
   "id": "ab336b9e50c3adf5",
   "outputs": [
    {
     "data": {
      "text/plain": [
       "torch.Size([3, 3])"
      ]
     },
     "execution_count": 212,
     "metadata": {},
     "output_type": "execute_result"
    }
   ],
   "execution_count": 212
  },
  {
   "metadata": {
    "ExecuteTime": {
     "end_time": "2024-10-14T12:07:42.703457Z",
     "start_time": "2024-10-14T12:07:42.697565Z"
    }
   },
   "cell_type": "code",
   "source": [
    "result = []\n",
    "for i in range(z.shape[0]):\n",
    "    v = y - x\n",
    "    w = z[i] - x\n",
    "    t = torch.clamp(torch.dot(v, w) / torch.dot(v, v), 0, 1)\n",
    "    dist = torch.norm(x + t * v - z[i])\n",
    "    result.append(dist)\n",
    "result"
   ],
   "id": "7b7c0a46f9c3e860",
   "outputs": [
    {
     "data": {
      "text/plain": [
       "[tensor(6.4807), tensor(3.), tensor(2.1602)]"
      ]
     },
     "execution_count": 213,
     "metadata": {},
     "output_type": "execute_result"
    }
   ],
   "execution_count": 213
  },
  {
   "metadata": {
    "ExecuteTime": {
     "end_time": "2024-10-14T12:07:42.728755Z",
     "start_time": "2024-10-14T12:07:42.725185Z"
    }
   },
   "cell_type": "code",
   "source": "v",
   "id": "ce17730f20e85a6b",
   "outputs": [
    {
     "data": {
      "text/plain": [
       "tensor([-6, -6, -6])"
      ]
     },
     "execution_count": 214,
     "metadata": {},
     "output_type": "execute_result"
    }
   ],
   "execution_count": 214
  },
  {
   "metadata": {
    "ExecuteTime": {
     "end_time": "2024-10-14T12:07:42.752939Z",
     "start_time": "2024-10-14T12:07:42.747821Z"
    }
   },
   "cell_type": "code",
   "source": [
    "v = y - x\n",
    "w = z - x.unsqueeze(0)\n",
    "t = torch.clamp(torch.sum(v * w, dim = -1) / torch.sum(v * v), 0, 1)\n",
    "dist = torch.norm(x.unsqueeze(0) + t.unsqueeze(-1) * v - z, dim = -1)\n",
    "dist"
   ],
   "id": "7a55cd8d7914e128",
   "outputs": [
    {
     "data": {
      "text/plain": [
       "tensor([6.4807, 3.0000, 2.1602])"
      ]
     },
     "execution_count": 215,
     "metadata": {},
     "output_type": "execute_result"
    }
   ],
   "execution_count": 215
  },
  {
   "metadata": {
    "ExecuteTime": {
     "end_time": "2024-10-14T12:07:42.768806Z",
     "start_time": "2024-10-14T12:07:42.765580Z"
    }
   },
   "cell_type": "code",
   "source": [
    "x = torch.tensor([7, 8, 9], dtype = torch.float32)\n",
    "y = torch.tensor([[1, 2, 3], [2, 3, 1], [4, 9, 3]], dtype = torch.float32)\n",
    "z = torch.tensor([[9, 4, 2], [3, 0, 2], [4, 7, 5]], dtype = torch.float32)"
   ],
   "id": "a19dcab7f4efe379",
   "outputs": [],
   "execution_count": 216
  },
  {
   "metadata": {
    "ExecuteTime": {
     "end_time": "2024-10-14T12:07:42.786950Z",
     "start_time": "2024-10-14T12:07:42.780908Z"
    }
   },
   "cell_type": "code",
   "source": [
    "ls = []\n",
    "for i in range(y.shape[0]):\n",
    "    v = y[i] - x\n",
    "    w = z - x\n",
    "    t = torch.clamp(torch.sum(v * w, dim = -1) / torch.sum(v * v), 0, 1)\n",
    "    dist = torch.norm(x.unsqueeze(0) + t.unsqueeze(-1) * v - z, dim = -1)\n",
    "    ls.append(dist)\n",
    "ls"
   ],
   "id": "cc121d55a87c9589",
   "outputs": [
    {
     "data": {
      "text/plain": [
       "[tensor([6.4807, 3.0000, 2.1602]),\n",
       " tensor([5.5488, 3.3166, 1.5102]),\n",
       " tensor([6.8366, 9.1104, 1.9337])]"
      ]
     },
     "execution_count": 217,
     "metadata": {},
     "output_type": "execute_result"
    }
   ],
   "execution_count": 217
  },
  {
   "metadata": {
    "ExecuteTime": {
     "end_time": "2024-10-14T12:07:42.811768Z",
     "start_time": "2024-10-14T12:07:42.806156Z"
    }
   },
   "cell_type": "code",
   "source": [
    "v = y - x\n",
    "w = z - x\n",
    "t = torch.clamp(torch.inner(v, w) / torch.sum(v * v, dim = -1).unsqueeze(1), 0, 1)\n",
    "dist = torch.norm(x.unsqueeze(0).unsqueeze(1) + t.unsqueeze(-1) * v.unsqueeze(1) - z, dim = -1)\n",
    "dist\n"
   ],
   "id": "38abb47d93f77e98",
   "outputs": [
    {
     "data": {
      "text/plain": [
       "tensor([[6.4807, 3.0000, 2.1602],\n",
       "        [5.5488, 3.3166, 1.5102],\n",
       "        [6.8366, 9.1104, 1.9337]])"
      ]
     },
     "execution_count": 218,
     "metadata": {},
     "output_type": "execute_result"
    }
   ],
   "execution_count": 218
  },
  {
   "metadata": {
    "ExecuteTime": {
     "end_time": "2024-10-14T12:08:40.231174Z",
     "start_time": "2024-10-14T12:08:40.226205Z"
    }
   },
   "cell_type": "code",
   "source": [
    "bk_val = torch.tanh_(0.2*torch.min(dist, dim=1).values)\n",
    "xy_dist = torch.norm(x - y, dim=1)\n",
    "chan_gain = bk_val * hparams.beta_1 / xy_dist+ (1 - bk_val) * hparams.beta_2 / (xy_dist ** 1.65)\n",
    "chan_gain"
   ],
   "id": "efcac021c5d8fc",
   "outputs": [
    {
     "data": {
      "text/plain": [
       "tensor([9.1942e-07, 6.5702e-07, 1.2973e-06])"
      ]
     },
     "execution_count": 223,
     "metadata": {},
     "output_type": "execute_result"
    }
   ],
   "execution_count": 223
  },
  {
   "metadata": {
    "ExecuteTime": {
     "end_time": "2024-10-14T12:11:27.645029Z",
     "start_time": "2024-10-14T12:11:27.639476Z"
    }
   },
   "cell_type": "code",
   "source": "torch.mean(hparams.P_AVG * chan_gain / hparams.noise)",
   "id": "81d66afdb2cce68c",
   "outputs": [
    {
     "data": {
      "text/plain": [
       "tensor(48009.4180)"
      ]
     },
     "execution_count": 225,
     "metadata": {},
     "output_type": "execute_result"
    }
   ],
   "execution_count": 225
  },
  {
   "metadata": {
    "ExecuteTime": {
     "end_time": "2024-10-14T12:07:42.990299Z",
     "start_time": "2024-10-14T12:07:42.988257Z"
    }
   },
   "cell_type": "code",
   "source": "",
   "id": "fb418bd95faefa25",
   "outputs": [],
   "execution_count": null
  },
  {
   "metadata": {
    "ExecuteTime": {
     "end_time": "2024-10-14T12:07:43.047392Z",
     "start_time": "2024-10-14T12:07:43.044515Z"
    }
   },
   "cell_type": "code",
   "source": "",
   "id": "42b2115292fa9691",
   "outputs": [],
   "execution_count": 220
  },
  {
   "metadata": {
    "ExecuteTime": {
     "end_time": "2024-10-14T12:07:43.061946Z",
     "start_time": "2024-10-14T12:07:43.060092Z"
    }
   },
   "cell_type": "code",
   "source": "",
   "id": "5f504341cb55e350",
   "outputs": [],
   "execution_count": null
  }
 ],
 "metadata": {
  "kernelspec": {
   "display_name": "Python 3",
   "language": "python",
   "name": "python3"
  },
  "language_info": {
   "codemirror_mode": {
    "name": "ipython",
    "version": 2
   },
   "file_extension": ".py",
   "mimetype": "text/x-python",
   "name": "python",
   "nbconvert_exporter": "python",
   "pygments_lexer": "ipython2",
   "version": "2.7.6"
  }
 },
 "nbformat": 4,
 "nbformat_minor": 5
}
